{
 "cells": [
  {
   "cell_type": "code",
   "execution_count": 2,
   "id": "52708c85",
   "metadata": {},
   "outputs": [
    {
     "name": "stdout",
     "output_type": "stream",
     "text": [
      "Uploaded 'kunde.pdf' to container 'pdfs'.\n"
     ]
    }
   ],
   "source": [
    "from azure.identity import DefaultAzureCredential\n",
    "from azure.storage.blob import BlobServiceClient\n",
    "import os\n",
    "from dotenv import load_dotenv\n",
    "load_dotenv()\n",
    "\n",
    "account_url = f\"https://{os.environ.get('SA_NAME')}.blob.core.windows.net/\"\n",
    "credential = DefaultAzureCredential()\n",
    "blob_service_client = BlobServiceClient(account_url=account_url, credential=credential)\n",
    "\n",
    "# Name of the container and blob\n",
    "container_name = os.environ.get(\"SA_CONTAINER_NAME_PDFS\")\n",
    "blob_name = \"kunde.pdf\"\n",
    "\n",
    "container_client = blob_service_client.get_container_client(container_name)\n",
    "\n",
    "\n",
    "# Upload the file\n",
    "with open(blob_name, \"rb\") as data:\n",
    "    container_client.upload_blob(name=blob_name, data=data, overwrite=True)\n",
    "\n",
    "print(f\"Uploaded '{blob_name}' to container '{container_name}'.\")\n"
   ]
  },
  {
   "cell_type": "code",
   "execution_count": 3,
   "id": "4c265f54",
   "metadata": {},
   "outputs": [
    {
     "name": "stderr",
     "output_type": "stream",
     "text": [
      "Parameter `strict_text` has been deprecated and will be ignored.\n"
     ]
    },
    {
     "name": "stdout",
     "output_type": "stream",
     "text": [
      "Frau Anais Abdelwahed Schulstrasse 181 8105 Regensdorf\n",
      "\n",
      "## Rechnung RE-217837\n",
      "\n",
      "| Standard Datum:   |        | Ihr Ansprechpartner: Leistungszeitraum: MwSt. Nr:   | Delle Donne Nicole Juni August 25 CHE-159.941.584 MWST   |\n",
      "|-------------------|--------|-----------------------------------------------------|----------------------------------------------------------|\n",
      "| Kundennummer:     | 102728 |                                                     |                                                          |\n",
      "\n",
      "Sehr Frau Abdelwahed geehrtelr\n",
      "\n",
      "stellen: und erlauben uns, Ihnen diesen wie folgt in Rechnung zu Wir danken für Ihren Auftrag\n",
      "\n",
      "|      | Beschreibung                                      | Menge    | Einzelpreis   | Preis in CHF   |\n",
      "|------|---------------------------------------------------|----------|---------------|----------------|\n",
      "| Pos. | 1 Abholung pro Monat                              | 3 Monate | 19.90         | 59.70          |\n",
      "|      | Standard Abonnement Produktcode: PRV-018-Standard |          |               | 59.70          |\n",
      "|      | Total                                             |          |               | 4.47           |\n",
      "|      | Im Preis enthaltene MWST 8.10%                    |          |               | 59.70          |\n",
      "|      | Betrag inkl. MWST                                 |          |               |                |\n",
      "\n",
      "der Rechnung Eigentum der Recycling Services AG. Die Ware bleibt bis zur Begleichung\n",
      "\n",
      "Bei Fragen stehen wir Ihnen gerne zur Verfügung:\n",
      "\n",
      "Beste Grüsse Recycling Services AG\n",
      "\n",
      "Recycling Services AG Kemptpark 5 8310 Kemptthal\n",
      "\n",
      "## TRENNBLATT\n",
      "\n",
      "## Anmeldeformular\n",
      "\n",
      "Foto\n",
      "\n",
      "Schüler Schülerin\n",
      "\n",
      "Bicte in Blockscnrift ausfüllen und unterzeichnen\n",
      "\n",
      "Nachname:\n",
      "\n",
      "Vorname:\n",
      "\n",
      "Geburtsdatum\n",
      "\n",
      "Strasse:\n",
      "\n",
      "PLZ 7 Ort:\n",
      "\n",
      "Nationalität:\n",
      "\n",
      "Telefon:\n",
      "\n",
      "Vorname des Vaters:\n",
      "\n",
      "Mobil Vater:\n",
      "\n",
      "E-Mail Adresse (Vater):\n",
      "\n",
      "Vorname der Mutter :\n",
      "\n",
      "Mobil Mutter:\n",
      "\n",
      "E-Mail Adresse (Mutter):\n",
      "\n",
      "Volksschule, Name &amp; Klasse:\n",
      "\n",
      "Schule NOUR Klasse:\n",
      "\n",
      "Besonderes (Allergien etc.):\n",
      "\n",
      "Ort und Datum:\n",
      "\n",
      "Name und Unterschrift:\n",
      "\n",
      "Veröffentlichung von Bildmaterial meines Kindes auf der Web - und Facebook-Seite der Schule:\n",
      "\n",
      "Ja, ich stimme zu Unterschrift:\n",
      "\n",
      "Nein; ich stimme nicht zu, Unterschrift:\n"
     ]
    }
   ],
   "source": [
    "from docling.document_converter import DocumentConverter\n",
    "\n",
    "source = \"test_scan.pdf\"\n",
    "converter = DocumentConverter()\n",
    "result = converter.convert(source)\n",
    "print(result.document.export_to_text()) "
   ]
  },
  {
   "cell_type": "code",
   "execution_count": null,
   "id": "402eec4d",
   "metadata": {},
   "outputs": [],
   "source": []
  }
 ],
 "metadata": {
  "kernelspec": {
   "display_name": "visionand",
   "language": "python",
   "name": "python3"
  },
  "language_info": {
   "codemirror_mode": {
    "name": "ipython",
    "version": 3
   },
   "file_extension": ".py",
   "mimetype": "text/x-python",
   "name": "python",
   "nbconvert_exporter": "python",
   "pygments_lexer": "ipython3",
   "version": "3.11.11"
  }
 },
 "nbformat": 4,
 "nbformat_minor": 5
}
